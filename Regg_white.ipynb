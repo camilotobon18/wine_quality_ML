{
 "cells": [
  {
   "cell_type": "code",
   "execution_count": 1,
   "metadata": {},
   "outputs": [],
   "source": [
    "import numpy as np\n",
    "import pandas as pd\n",
    "import matplotlib.pyplot as plt\n",
    "from matplotlib.colors import ListedColormap\n",
    "\n",
    "from sklearn.datasets import make_classification\n",
    "from sklearn.tree import DecisionTreeClassifier, DecisionTreeRegressor\n",
    "from sklearn.ensemble import RandomForestClassifier, RandomForestRegressor, BaggingRegressor, BaggingClassifier, GradientBoostingRegressor\n",
    "from sklearn.svm import SVC, LinearSVC, SVR\n",
    "from sklearn.model_selection import train_test_split, GridSearchCV, RandomizedSearchCV\n",
    "from sklearn.metrics import f1_score, r2_score, mean_absolute_error, mean_squared_error, classification_report, plot_confusion_matrix, accuracy_score, max_error\n",
    "from scipy.stats import reciprocal, randint\n",
    "from sklearn.linear_model import LinearRegression,  Ridge, Lasso, LogisticRegression\n",
    "from sklearn.preprocessing import StandardScaler, PolynomialFeatures\n",
    "from sklearn.pipeline import Pipeline"
   ]
  },
  {
   "cell_type": "code",
   "execution_count": 2,
   "metadata": {},
   "outputs": [
    {
     "data": {
      "text/html": [
       "<div>\n",
       "<style scoped>\n",
       "    .dataframe tbody tr th:only-of-type {\n",
       "        vertical-align: middle;\n",
       "    }\n",
       "\n",
       "    .dataframe tbody tr th {\n",
       "        vertical-align: top;\n",
       "    }\n",
       "\n",
       "    .dataframe thead th {\n",
       "        text-align: right;\n",
       "    }\n",
       "</style>\n",
       "<table border=\"1\" class=\"dataframe\">\n",
       "  <thead>\n",
       "    <tr style=\"text-align: right;\">\n",
       "      <th></th>\n",
       "      <th>fixed acidity</th>\n",
       "      <th>volatile acidity</th>\n",
       "      <th>citric acid</th>\n",
       "      <th>residual sugar</th>\n",
       "      <th>chlorides</th>\n",
       "      <th>free sulfur dioxide</th>\n",
       "      <th>total sulfur dioxide</th>\n",
       "      <th>density</th>\n",
       "      <th>pH</th>\n",
       "      <th>sulphates</th>\n",
       "      <th>alcohol</th>\n",
       "      <th>quality</th>\n",
       "    </tr>\n",
       "  </thead>\n",
       "  <tbody>\n",
       "    <tr>\n",
       "      <th>0</th>\n",
       "      <td>7.0</td>\n",
       "      <td>0.27</td>\n",
       "      <td>0.36</td>\n",
       "      <td>20.7</td>\n",
       "      <td>0.045</td>\n",
       "      <td>45.0</td>\n",
       "      <td>170.0</td>\n",
       "      <td>1.00100</td>\n",
       "      <td>3.00</td>\n",
       "      <td>0.45</td>\n",
       "      <td>8.8</td>\n",
       "      <td>6</td>\n",
       "    </tr>\n",
       "    <tr>\n",
       "      <th>1</th>\n",
       "      <td>6.3</td>\n",
       "      <td>0.30</td>\n",
       "      <td>0.34</td>\n",
       "      <td>1.6</td>\n",
       "      <td>0.049</td>\n",
       "      <td>14.0</td>\n",
       "      <td>132.0</td>\n",
       "      <td>0.99400</td>\n",
       "      <td>3.30</td>\n",
       "      <td>0.49</td>\n",
       "      <td>9.5</td>\n",
       "      <td>6</td>\n",
       "    </tr>\n",
       "    <tr>\n",
       "      <th>2</th>\n",
       "      <td>8.1</td>\n",
       "      <td>0.28</td>\n",
       "      <td>0.40</td>\n",
       "      <td>6.9</td>\n",
       "      <td>0.050</td>\n",
       "      <td>30.0</td>\n",
       "      <td>97.0</td>\n",
       "      <td>0.99510</td>\n",
       "      <td>3.26</td>\n",
       "      <td>0.44</td>\n",
       "      <td>10.1</td>\n",
       "      <td>6</td>\n",
       "    </tr>\n",
       "    <tr>\n",
       "      <th>3</th>\n",
       "      <td>7.2</td>\n",
       "      <td>0.23</td>\n",
       "      <td>0.32</td>\n",
       "      <td>8.5</td>\n",
       "      <td>0.058</td>\n",
       "      <td>47.0</td>\n",
       "      <td>186.0</td>\n",
       "      <td>0.99560</td>\n",
       "      <td>3.19</td>\n",
       "      <td>0.40</td>\n",
       "      <td>9.9</td>\n",
       "      <td>6</td>\n",
       "    </tr>\n",
       "    <tr>\n",
       "      <th>4</th>\n",
       "      <td>7.2</td>\n",
       "      <td>0.23</td>\n",
       "      <td>0.32</td>\n",
       "      <td>8.5</td>\n",
       "      <td>0.058</td>\n",
       "      <td>47.0</td>\n",
       "      <td>186.0</td>\n",
       "      <td>0.99560</td>\n",
       "      <td>3.19</td>\n",
       "      <td>0.40</td>\n",
       "      <td>9.9</td>\n",
       "      <td>6</td>\n",
       "    </tr>\n",
       "    <tr>\n",
       "      <th>...</th>\n",
       "      <td>...</td>\n",
       "      <td>...</td>\n",
       "      <td>...</td>\n",
       "      <td>...</td>\n",
       "      <td>...</td>\n",
       "      <td>...</td>\n",
       "      <td>...</td>\n",
       "      <td>...</td>\n",
       "      <td>...</td>\n",
       "      <td>...</td>\n",
       "      <td>...</td>\n",
       "      <td>...</td>\n",
       "    </tr>\n",
       "    <tr>\n",
       "      <th>4893</th>\n",
       "      <td>6.2</td>\n",
       "      <td>0.21</td>\n",
       "      <td>0.29</td>\n",
       "      <td>1.6</td>\n",
       "      <td>0.039</td>\n",
       "      <td>24.0</td>\n",
       "      <td>92.0</td>\n",
       "      <td>0.99114</td>\n",
       "      <td>3.27</td>\n",
       "      <td>0.50</td>\n",
       "      <td>11.2</td>\n",
       "      <td>6</td>\n",
       "    </tr>\n",
       "    <tr>\n",
       "      <th>4894</th>\n",
       "      <td>6.6</td>\n",
       "      <td>0.32</td>\n",
       "      <td>0.36</td>\n",
       "      <td>8.0</td>\n",
       "      <td>0.047</td>\n",
       "      <td>57.0</td>\n",
       "      <td>168.0</td>\n",
       "      <td>0.99490</td>\n",
       "      <td>3.15</td>\n",
       "      <td>0.46</td>\n",
       "      <td>9.6</td>\n",
       "      <td>5</td>\n",
       "    </tr>\n",
       "    <tr>\n",
       "      <th>4895</th>\n",
       "      <td>6.5</td>\n",
       "      <td>0.24</td>\n",
       "      <td>0.19</td>\n",
       "      <td>1.2</td>\n",
       "      <td>0.041</td>\n",
       "      <td>30.0</td>\n",
       "      <td>111.0</td>\n",
       "      <td>0.99254</td>\n",
       "      <td>2.99</td>\n",
       "      <td>0.46</td>\n",
       "      <td>9.4</td>\n",
       "      <td>6</td>\n",
       "    </tr>\n",
       "    <tr>\n",
       "      <th>4896</th>\n",
       "      <td>5.5</td>\n",
       "      <td>0.29</td>\n",
       "      <td>0.30</td>\n",
       "      <td>1.1</td>\n",
       "      <td>0.022</td>\n",
       "      <td>20.0</td>\n",
       "      <td>110.0</td>\n",
       "      <td>0.98869</td>\n",
       "      <td>3.34</td>\n",
       "      <td>0.38</td>\n",
       "      <td>12.8</td>\n",
       "      <td>7</td>\n",
       "    </tr>\n",
       "    <tr>\n",
       "      <th>4897</th>\n",
       "      <td>6.0</td>\n",
       "      <td>0.21</td>\n",
       "      <td>0.38</td>\n",
       "      <td>0.8</td>\n",
       "      <td>0.020</td>\n",
       "      <td>22.0</td>\n",
       "      <td>98.0</td>\n",
       "      <td>0.98941</td>\n",
       "      <td>3.26</td>\n",
       "      <td>0.32</td>\n",
       "      <td>11.8</td>\n",
       "      <td>6</td>\n",
       "    </tr>\n",
       "  </tbody>\n",
       "</table>\n",
       "<p>4898 rows × 12 columns</p>\n",
       "</div>"
      ],
      "text/plain": [
       "      fixed acidity  volatile acidity  citric acid  residual sugar  chlorides  \\\n",
       "0               7.0              0.27         0.36            20.7      0.045   \n",
       "1               6.3              0.30         0.34             1.6      0.049   \n",
       "2               8.1              0.28         0.40             6.9      0.050   \n",
       "3               7.2              0.23         0.32             8.5      0.058   \n",
       "4               7.2              0.23         0.32             8.5      0.058   \n",
       "...             ...               ...          ...             ...        ...   \n",
       "4893            6.2              0.21         0.29             1.6      0.039   \n",
       "4894            6.6              0.32         0.36             8.0      0.047   \n",
       "4895            6.5              0.24         0.19             1.2      0.041   \n",
       "4896            5.5              0.29         0.30             1.1      0.022   \n",
       "4897            6.0              0.21         0.38             0.8      0.020   \n",
       "\n",
       "      free sulfur dioxide  total sulfur dioxide  density    pH  sulphates  \\\n",
       "0                    45.0                 170.0  1.00100  3.00       0.45   \n",
       "1                    14.0                 132.0  0.99400  3.30       0.49   \n",
       "2                    30.0                  97.0  0.99510  3.26       0.44   \n",
       "3                    47.0                 186.0  0.99560  3.19       0.40   \n",
       "4                    47.0                 186.0  0.99560  3.19       0.40   \n",
       "...                   ...                   ...      ...   ...        ...   \n",
       "4893                 24.0                  92.0  0.99114  3.27       0.50   \n",
       "4894                 57.0                 168.0  0.99490  3.15       0.46   \n",
       "4895                 30.0                 111.0  0.99254  2.99       0.46   \n",
       "4896                 20.0                 110.0  0.98869  3.34       0.38   \n",
       "4897                 22.0                  98.0  0.98941  3.26       0.32   \n",
       "\n",
       "      alcohol  quality  \n",
       "0         8.8        6  \n",
       "1         9.5        6  \n",
       "2        10.1        6  \n",
       "3         9.9        6  \n",
       "4         9.9        6  \n",
       "...       ...      ...  \n",
       "4893     11.2        6  \n",
       "4894      9.6        5  \n",
       "4895      9.4        6  \n",
       "4896     12.8        7  \n",
       "4897     11.8        6  \n",
       "\n",
       "[4898 rows x 12 columns]"
      ]
     },
     "execution_count": 2,
     "metadata": {},
     "output_type": "execute_result"
    }
   ],
   "source": [
    "df = pd.read_csv('winequality-white.csv', sep=';')\n",
    "df"
   ]
  },
  {
   "cell_type": "code",
   "execution_count": 3,
   "metadata": {},
   "outputs": [],
   "source": [
    "X = df.drop(columns='quality')\n",
    "y = df.quality"
   ]
  },
  {
   "cell_type": "code",
   "execution_count": 4,
   "metadata": {},
   "outputs": [],
   "source": [
    "X_train, X_test, y_train, y_test = train_test_split(X, y, test_size=0.2, random_state=42)\n",
    "X_train, X_val, y_train, y_val = train_test_split(X_train, y_train, test_size=0.25, random_state=42)"
   ]
  },
  {
   "cell_type": "markdown",
   "metadata": {},
   "source": [
    "# Modelos Simples"
   ]
  },
  {
   "cell_type": "markdown",
   "metadata": {},
   "source": [
    "## Regresión Lineal"
   ]
  },
  {
   "cell_type": "code",
   "execution_count": 5,
   "metadata": {},
   "outputs": [
    {
     "name": "stdout",
     "output_type": "stream",
     "text": [
      "R2 train 0.2839219313754503\n",
      "R2 val 0.2665242126890309\n",
      "MAE train 0.5879082700331394\n",
      "MAE val 0.5676484502513972\n",
      "MSE train 0.5719423542728527\n",
      "MSE val 0.5494317128322659\n",
      "Max error train 3.625759124302122\n",
      "Max error val 4.476680978256095\n"
     ]
    }
   ],
   "source": [
    "lr = Pipeline([\n",
    "                ('scale', StandardScaler()),\n",
    "                ('linear', LinearRegression())\n",
    "              ])\n",
    "lr.fit(X_train, y_train)\n",
    "\n",
    "r2_train = r2_score(y_train, lr.predict(X_train))\n",
    "r2_val = r2_score(y_val, lr.predict(X_val))\n",
    "\n",
    "mae_train = mean_absolute_error(y_train, lr.predict(X_train))\n",
    "mae_val = mean_absolute_error(y_val, lr.predict(X_val))\n",
    "\n",
    "mse_train = mean_squared_error(y_train, lr.predict(X_train))\n",
    "mse_val = mean_squared_error(y_val, lr.predict(X_val))\n",
    "\n",
    "max_error_train = max_error(y_train, lr.predict(X_train))\n",
    "max_error_val = max_error(y_val, lr.predict(X_val))\n",
    "\n",
    "print('R2 train {}'.format(r2_train))\n",
    "print('R2 val {}'.format(r2_val))\n",
    "\n",
    "print('MAE train {}'.format(mae_train))\n",
    "print('MAE val {}'.format(mae_val))\n",
    "\n",
    "print('MSE train {}'.format(mse_train))\n",
    "print('MSE val {}'.format(mse_val))\n",
    "\n",
    "print('Max error train {}'.format(max_error_train))\n",
    "print('Max error val {}'.format(max_error_val))"
   ]
  },
  {
   "cell_type": "markdown",
   "metadata": {},
   "source": [
    "## Regresión Polinómica"
   ]
  },
  {
   "cell_type": "code",
   "execution_count": 6,
   "metadata": {},
   "outputs": [
    {
     "name": "stdout",
     "output_type": "stream",
     "text": [
      "R2 train 0.368544412962975\n",
      "R2 val 0.3464345646957122\n",
      "MAE train 0.5532320725294384\n",
      "MAE val 0.5410996429553447\n",
      "MSE train 0.5043531018376458\n",
      "MSE val 0.48957250229578253\n",
      "Max error train 3.33063000599111\n",
      "Max error val 3.9296411834906486\n",
      "Wall time: 47min 5s\n"
     ]
    }
   ],
   "source": [
    "%%time\n",
    "poly_pipe = Pipeline([\n",
    "                        ('poly', PolynomialFeatures()),\n",
    "                        ('scale', StandardScaler()),\n",
    "                        ('lr', LinearRegression())\n",
    "                     ])\n",
    "grid = {'poly__degree':range(2,10)}\n",
    "\n",
    "poly_reg = GridSearchCV(poly_pipe, param_grid=grid)\n",
    "poly_reg.fit(X_train, y_train)\n",
    "\n",
    "r2_train = r2_score(y_train, poly_reg.predict(X_train))\n",
    "r2_val = r2_score(y_val, poly_reg.predict(X_val))\n",
    "\n",
    "mae_train = mean_absolute_error(y_train, poly_reg.predict(X_train))\n",
    "mae_val = mean_absolute_error(y_val, poly_reg.predict(X_val))\n",
    "\n",
    "mse_train = mean_squared_error(y_train, poly_reg.predict(X_train))\n",
    "mse_val = mean_squared_error(y_val, poly_reg.predict(X_val))\n",
    "\n",
    "max_error_train = max_error(y_train, poly_reg.predict(X_train))\n",
    "max_error_val = max_error(y_val, poly_reg.predict(X_val))\n",
    "\n",
    "print('R2 train {}'.format(r2_train))\n",
    "print('R2 val {}'.format(r2_val))\n",
    "\n",
    "print('MAE train {}'.format(mae_train))\n",
    "print('MAE val {}'.format(mae_val))\n",
    "\n",
    "print('MSE train {}'.format(mse_train))\n",
    "print('MSE val {}'.format(mse_val))\n",
    "\n",
    "print('Max error train {}'.format(max_error_train))\n",
    "print('Max error val {}'.format(max_error_val))"
   ]
  },
  {
   "cell_type": "code",
   "execution_count": 7,
   "metadata": {},
   "outputs": [
    {
     "data": {
      "text/plain": [
       "{'poly__degree': 2}"
      ]
     },
     "execution_count": 7,
     "metadata": {},
     "output_type": "execute_result"
    }
   ],
   "source": [
    "poly_reg.best_params_"
   ]
  },
  {
   "cell_type": "markdown",
   "metadata": {},
   "source": [
    "## Árbol de Decisión"
   ]
  },
  {
   "cell_type": "code",
   "execution_count": 8,
   "metadata": {},
   "outputs": [
    {
     "name": "stdout",
     "output_type": "stream",
     "text": [
      "R2 train 0.3807452022153829\n",
      "R2 val 0.34542091079897586\n",
      "MAE train 0.5471870968510665\n",
      "MAE val 0.5498043903351268\n",
      "MSE train 0.49460814743286596\n",
      "MSE val 0.49033180970079554\n",
      "Max error train 3.2921348314606744\n",
      "Max error val 3.2295081967213113\n",
      "Wall time: 4.39 s\n"
     ]
    }
   ],
   "source": [
    "%%time\n",
    "tree = DecisionTreeRegressor()\n",
    "dists = {'max_depth':range(2, 100),'min_samples_leaf': range(10, 1000)}\n",
    "\n",
    "tree_reg = RandomizedSearchCV(tree, param_distributions=dists, n_iter=100)\n",
    "tree_reg.fit(X_train, y_train)\n",
    "\n",
    "r2_train = r2_score(y_train, tree_reg.predict(X_train))\n",
    "r2_val = r2_score(y_val, tree_reg.predict(X_val))\n",
    "\n",
    "mae_train = mean_absolute_error(y_train, tree_reg.predict(X_train))\n",
    "mae_val = mean_absolute_error(y_val, tree_reg.predict(X_val))\n",
    "\n",
    "mse_train = mean_squared_error(y_train, tree_reg.predict(X_train))\n",
    "mse_val = mean_squared_error(y_val, tree_reg.predict(X_val))\n",
    "\n",
    "max_error_train = max_error(y_train, tree_reg.predict(X_train))\n",
    "max_error_val = max_error(y_val, tree_reg.predict(X_val))\n",
    "\n",
    "print('R2 train {}'.format(r2_train))\n",
    "print('R2 val {}'.format(r2_val))\n",
    "\n",
    "print('MAE train {}'.format(mae_train))\n",
    "print('MAE val {}'.format(mae_val))\n",
    "\n",
    "print('MSE train {}'.format(mse_train))\n",
    "print('MSE val {}'.format(mse_val))\n",
    "\n",
    "print('Max error train {}'.format(max_error_train))\n",
    "print('Max error val {}'.format(max_error_val))"
   ]
  },
  {
   "cell_type": "markdown",
   "metadata": {},
   "source": [
    "## Máquina de Soporte Vectorial (SVM)"
   ]
  },
  {
   "cell_type": "code",
   "execution_count": 9,
   "metadata": {},
   "outputs": [
    {
     "name": "stdout",
     "output_type": "stream",
     "text": [
      "R2 train 0.4274882733715929\n",
      "R2 val 0.4020091111534779\n",
      "MAE train 0.5027557536639248\n",
      "MAE val 0.5093442163490883\n",
      "MSE train 0.4572737514578883\n",
      "MSE val 0.4479427460333294\n",
      "Max error train 3.3579652236327284\n",
      "Max error val 3.2834340515694027\n",
      "Wall time: 1h 45min 48s\n"
     ]
    }
   ],
   "source": [
    "%%time\n",
    "svm_pipe = Pipeline([\n",
    "                        ('scale', StandardScaler()),\n",
    "                        ('svr', SVR(kernel='rbf'))\n",
    "                     ])\n",
    "dists = {'svr__gamma':reciprocal(0.01, 100),'svr__C': reciprocal(1e-4, 1e4)}\n",
    "\n",
    "svm_reg = RandomizedSearchCV(svm_pipe, param_distributions = dists, n_iter=100)\n",
    "svm_reg.fit(X_train, y_train)\n",
    "\n",
    "r2_train = r2_score(y_train, svm_reg.predict(X_train))\n",
    "r2_val = r2_score(y_val, svm_reg.predict(X_val))\n",
    "\n",
    "mae_train = mean_absolute_error(y_train, svm_reg.predict(X_train))\n",
    "mae_val = mean_absolute_error(y_val, svm_reg.predict(X_val))\n",
    "\n",
    "mse_train = mean_squared_error(y_train, svm_reg.predict(X_train))\n",
    "mse_val = mean_squared_error(y_val, svm_reg.predict(X_val))\n",
    "\n",
    "max_error_train = max_error(y_train, svm_reg.predict(X_train))\n",
    "max_error_val = max_error(y_val, svm_reg.predict(X_val))\n",
    "\n",
    "print('R2 train {}'.format(r2_train))\n",
    "print('R2 val {}'.format(r2_val))\n",
    "\n",
    "print('MAE train {}'.format(mae_train))\n",
    "print('MAE val {}'.format(mae_val))\n",
    "\n",
    "print('MSE train {}'.format(mse_train))\n",
    "print('MSE val {}'.format(mse_val))\n",
    "\n",
    "print('Max error train {}'.format(max_error_train))\n",
    "print('Max error val {}'.format(max_error_val))"
   ]
  },
  {
   "cell_type": "code",
   "execution_count": 10,
   "metadata": {},
   "outputs": [
    {
     "data": {
      "text/plain": [
       "{'svr__C': 1.5183114915037463, 'svr__gamma': 0.03912133133063292}"
      ]
     },
     "execution_count": 10,
     "metadata": {},
     "output_type": "execute_result"
    }
   ],
   "source": [
    "svm_reg.best_params_"
   ]
  },
  {
   "cell_type": "markdown",
   "metadata": {},
   "source": [
    "# Modelos de Ensamble"
   ]
  },
  {
   "cell_type": "markdown",
   "metadata": {},
   "source": [
    "## Bagging de regresiones lineales"
   ]
  },
  {
   "cell_type": "code",
   "execution_count": 11,
   "metadata": {},
   "outputs": [
    {
     "name": "stdout",
     "output_type": "stream",
     "text": [
      "R2 train 0.2838244655998806\n",
      "R2 val 0.2682219229871431\n",
      "MAE train 0.5878226900538344\n",
      "MAE val 0.5670755066527102\n",
      "MSE train 0.5720202016579115\n",
      "MSE val 0.5481599927658075\n",
      "Max error train 3.6262440534714004\n",
      "Max error val 4.319635557576467\n",
      "Wall time: 1min 42s\n"
     ]
    }
   ],
   "source": [
    "%%time\n",
    "bagg_linear_pipe = Pipeline([\n",
    "                                ('scale', StandardScaler()),\n",
    "                                ('bagg', BaggingRegressor(base_estimator=LinearRegression(), max_samples=2/3))\n",
    "                            ])\n",
    "grid = {'bagg__n_estimators':range(20, 100)}\n",
    "\n",
    "bagg_linear = GridSearchCV(bagg_linear_pipe, param_grid=grid)\n",
    "bagg_linear.fit(X_train, y_train)\n",
    "\n",
    "r2_train = r2_score(y_train, bagg_linear.predict(X_train))\n",
    "r2_val = r2_score(y_val, bagg_linear.predict(X_val))\n",
    "\n",
    "mae_train = mean_absolute_error(y_train, bagg_linear.predict(X_train))\n",
    "mae_val = mean_absolute_error(y_val, bagg_linear.predict(X_val))\n",
    "\n",
    "mse_train = mean_squared_error(y_train, bagg_linear.predict(X_train))\n",
    "mse_val = mean_squared_error(y_val, bagg_linear.predict(X_val))\n",
    "\n",
    "max_error_train = max_error(y_train, bagg_linear.predict(X_train))\n",
    "max_error_val = max_error(y_val, bagg_linear.predict(X_val))\n",
    "\n",
    "print('R2 train {}'.format(r2_train))\n",
    "print('R2 val {}'.format(r2_val))\n",
    "\n",
    "print('MAE train {}'.format(mae_train))\n",
    "print('MAE val {}'.format(mae_val))\n",
    "\n",
    "print('MSE train {}'.format(mse_train))\n",
    "print('MSE val {}'.format(mse_val))\n",
    "\n",
    "print('Max error train {}'.format(max_error_train))\n",
    "print('Max error val {}'.format(max_error_val))\n"
   ]
  },
  {
   "cell_type": "markdown",
   "metadata": {},
   "source": [
    "## Bagging de regresion polinomial de grado 2"
   ]
  },
  {
   "cell_type": "code",
   "execution_count": 12,
   "metadata": {},
   "outputs": [
    {
     "name": "stdout",
     "output_type": "stream",
     "text": [
      "R2 train 0.3670417400954804\n",
      "R2 val 0.3076143847412286\n",
      "MAE train 0.5533754818683392\n",
      "MAE val 0.5432010449739845\n",
      "MSE train 0.5055533093222678\n",
      "MSE val 0.5186519052342818\n",
      "Max error train 3.3350948567657275\n",
      "Max error val 6.655283978550139\n",
      "Wall time: 8min 5s\n"
     ]
    }
   ],
   "source": [
    "%%time\n",
    "bagg_poly_pipe = Pipeline([\n",
    "                                ('scale', StandardScaler()),\n",
    "                                ('poly', PolynomialFeatures(degree=2)),\n",
    "                                ('bagg', BaggingRegressor(base_estimator=LinearRegression(), max_samples=2/3))\n",
    "                            ])\n",
    "grid = {'bagg__n_estimators':range(20, 100)}\n",
    "\n",
    "bagg_poly = GridSearchCV(bagg_poly_pipe, param_grid=grid)\n",
    "bagg_poly.fit(X_train, y_train)\n",
    "\n",
    "r2_train = r2_score(y_train, bagg_poly.predict(X_train))\n",
    "r2_val = r2_score(y_val, bagg_poly.predict(X_val))\n",
    "\n",
    "mae_train = mean_absolute_error(y_train, bagg_poly.predict(X_train))\n",
    "mae_val = mean_absolute_error(y_val, bagg_poly.predict(X_val))\n",
    "\n",
    "mse_train = mean_squared_error(y_train, bagg_poly.predict(X_train))\n",
    "mse_val = mean_squared_error(y_val, bagg_poly.predict(X_val))\n",
    "\n",
    "max_error_train = max_error(y_train, bagg_poly.predict(X_train))\n",
    "max_error_val = max_error(y_val, bagg_poly.predict(X_val))\n",
    "\n",
    "print('R2 train {}'.format(r2_train))\n",
    "print('R2 val {}'.format(r2_val))\n",
    "\n",
    "print('MAE train {}'.format(mae_train))\n",
    "print('MAE val {}'.format(mae_val))\n",
    "\n",
    "print('MSE train {}'.format(mse_train))\n",
    "print('MSE val {}'.format(mse_val))\n",
    "\n",
    "print('Max error train {}'.format(max_error_train))\n",
    "print('Max error val {}'.format(max_error_val))\n"
   ]
  },
  {
   "cell_type": "markdown",
   "metadata": {},
   "source": [
    "## Random Forest Regressor"
   ]
  },
  {
   "cell_type": "code",
   "execution_count": 13,
   "metadata": {},
   "outputs": [
    {
     "name": "stdout",
     "output_type": "stream",
     "text": [
      "R2 train 0.8757689977935806\n",
      "R2 val 0.5192453335808086\n",
      "MAE train 0.22542987816103469\n",
      "MAE val 0.44354727149853823\n",
      "MSE train 0.09922517528304525\n",
      "MSE val 0.360123489271792\n",
      "Max error train 1.922783251231527\n",
      "Max error val 3.4637931034482756\n",
      "Wall time: 3min 9s\n"
     ]
    }
   ],
   "source": [
    "%%time\n",
    "forest = RandomForestRegressor()\n",
    "dists = {'n_estimators':range(20, 100), 'max_depth':(2, 50), 'min_samples_leaf':range(2, 50)}\n",
    "\n",
    "forest_reg = RandomizedSearchCV(forest, param_distributions=dists, n_iter=100)\n",
    "forest_reg.fit(X_train, y_train)\n",
    "\n",
    "r2_train = r2_score(y_train, forest_reg.predict(X_train))\n",
    "r2_val = r2_score(y_val, forest_reg.predict(X_val))\n",
    "\n",
    "mae_train = mean_absolute_error(y_train, forest_reg.predict(X_train))\n",
    "mae_val = mean_absolute_error(y_val, forest_reg.predict(X_val))\n",
    "\n",
    "mse_train = mean_squared_error(y_train, forest_reg.predict(X_train))\n",
    "mse_val = mean_squared_error(y_val, forest_reg.predict(X_val))\n",
    "\n",
    "max_error_train = max_error(y_train, forest_reg.predict(X_train))\n",
    "max_error_val = max_error(y_val, forest_reg.predict(X_val))\n",
    "\n",
    "print('R2 train {}'.format(r2_train))\n",
    "print('R2 val {}'.format(r2_val))\n",
    "\n",
    "print('MAE train {}'.format(mae_train))\n",
    "print('MAE val {}'.format(mae_val))\n",
    "\n",
    "print('MSE train {}'.format(mse_train))\n",
    "print('MSE val {}'.format(mse_val))\n",
    "\n",
    "print('Max error train {}'.format(max_error_train))\n",
    "print('Max error val {}'.format(max_error_val))"
   ]
  },
  {
   "cell_type": "markdown",
   "metadata": {},
   "source": [
    "## Bagging de SVM"
   ]
  },
  {
   "cell_type": "code",
   "execution_count": 14,
   "metadata": {},
   "outputs": [
    {
     "name": "stdout",
     "output_type": "stream",
     "text": [
      "R2 train 0.40472932256784233\n",
      "R2 val 0.39972148154206355\n",
      "MAE train 0.5202903308619093\n",
      "MAE val 0.5095550128078472\n",
      "MSE train 0.47545166874626427\n",
      "MSE val 0.4496563625936431\n",
      "Max error train 3.221802398444485\n",
      "Max error val 3.3039190707236905\n",
      "Wall time: 42min 58s\n"
     ]
    }
   ],
   "source": [
    "%%time\n",
    "bagg_svm_pipe = Pipeline([\n",
    "                                ('scale', StandardScaler()),\n",
    "                                ('bagg', BaggingRegressor(base_estimator=SVR(kernel='rbf', C=0.7, gamma=0.05), max_samples=2/3))\n",
    "                            ])\n",
    "grid = {'bagg__n_estimators':range(20, 100)}\n",
    "\n",
    "bagg_svm = GridSearchCV(bagg_svm_pipe, param_grid=grid)\n",
    "bagg_svm.fit(X_train, y_train)\n",
    "\n",
    "r2_train = r2_score(y_train, bagg_svm.predict(X_train))\n",
    "r2_val = r2_score(y_val, bagg_svm.predict(X_val))\n",
    "\n",
    "mae_train = mean_absolute_error(y_train, bagg_svm.predict(X_train))\n",
    "mae_val = mean_absolute_error(y_val, bagg_svm.predict(X_val))\n",
    "\n",
    "mse_train = mean_squared_error(y_train, bagg_svm.predict(X_train))\n",
    "mse_val = mean_squared_error(y_val, bagg_svm.predict(X_val))\n",
    "\n",
    "max_error_train = max_error(y_train, bagg_svm.predict(X_train))\n",
    "max_error_val = max_error(y_val, bagg_svm.predict(X_val))\n",
    "\n",
    "print('R2 train {}'.format(r2_train))\n",
    "print('R2 val {}'.format(r2_val))\n",
    "\n",
    "print('MAE train {}'.format(mae_train))\n",
    "print('MAE val {}'.format(mae_val))\n",
    "\n",
    "print('MSE train {}'.format(mse_train))\n",
    "print('MSE val {}'.format(mse_val))\n",
    "\n",
    "print('Max error train {}'.format(max_error_train))\n",
    "print('Max error val {}'.format(max_error_val))\n"
   ]
  },
  {
   "cell_type": "markdown",
   "metadata": {},
   "source": [
    "## Gradient Boosting"
   ]
  },
  {
   "cell_type": "code",
   "execution_count": 16,
   "metadata": {},
   "outputs": [
    {
     "name": "stdout",
     "output_type": "stream",
     "text": [
      "R2 train 0.9219422121863169\n",
      "R2 val 0.5205215619906454\n",
      "MAE train 0.1787870555851074\n",
      "MAE val 0.43481535255513853\n",
      "MSE train 0.062345932500408034\n",
      "MSE val 0.35916749266861514\n",
      "Max error train 1.62656336138454\n",
      "Max error val 3.571265808073341\n",
      "Wall time: 4min 51s\n"
     ]
    }
   ],
   "source": [
    "%%time\n",
    "boost_est = GradientBoostingRegressor()\n",
    "dists = {'n_estimators':range(20, 100), 'max_depth':(2, 50), 'min_samples_leaf':range(2, 50)}\n",
    "\n",
    "boost = RandomizedSearchCV(boost_est, param_distributions=dists, n_iter=100)\n",
    "boost.fit(X_train, y_train)\n",
    "\n",
    "r2_train = r2_score(y_train, boost.predict(X_train))\n",
    "r2_val = r2_score(y_val, boost.predict(X_val))\n",
    "\n",
    "mae_train = mean_absolute_error(y_train, boost.predict(X_train))\n",
    "mae_val = mean_absolute_error(y_val, boost.predict(X_val))\n",
    "\n",
    "mse_train = mean_squared_error(y_train, boost.predict(X_train))\n",
    "mse_val = mean_squared_error(y_val, boost.predict(X_val))\n",
    "\n",
    "max_error_train = max_error(y_train, boost.predict(X_train))\n",
    "max_error_val = max_error(y_val, boost.predict(X_val))\n",
    "\n",
    "print('R2 train {}'.format(r2_train))\n",
    "print('R2 val {}'.format(r2_val))\n",
    "\n",
    "print('MAE train {}'.format(mae_train))\n",
    "print('MAE val {}'.format(mae_val))\n",
    "\n",
    "print('MSE train {}'.format(mse_train))\n",
    "print('MSE val {}'.format(mse_val))\n",
    "\n",
    "print('Max error train {}'.format(max_error_train))\n",
    "print('Max error val {}'.format(max_error_val))"
   ]
  }
 ],
 "metadata": {
  "kernelspec": {
   "display_name": "Python 3",
   "language": "python",
   "name": "python3"
  },
  "language_info": {
   "codemirror_mode": {
    "name": "ipython",
    "version": 3
   },
   "file_extension": ".py",
   "mimetype": "text/x-python",
   "name": "python",
   "nbconvert_exporter": "python",
   "pygments_lexer": "ipython3",
   "version": "3.8.5"
  }
 },
 "nbformat": 4,
 "nbformat_minor": 4
}
