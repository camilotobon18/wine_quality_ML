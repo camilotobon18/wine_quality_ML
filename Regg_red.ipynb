{
 "cells": [
  {
   "cell_type": "code",
   "execution_count": 27,
   "metadata": {},
   "outputs": [],
   "source": [
    "import numpy as np\n",
    "import pandas as pd\n",
    "import matplotlib.pyplot as plt\n",
    "from matplotlib.colors import ListedColormap\n",
    "\n",
    "from sklearn.datasets import make_classification\n",
    "from sklearn.tree import DecisionTreeClassifier, DecisionTreeRegressor\n",
    "from sklearn.ensemble import RandomForestClassifier, RandomForestRegressor, BaggingRegressor, BaggingClassifier, GradientBoostingRegressor\n",
    "from sklearn.svm import SVC, LinearSVC, SVR\n",
    "from sklearn.model_selection import train_test_split, GridSearchCV, RandomizedSearchCV\n",
    "from sklearn.metrics import f1_score, r2_score, mean_absolute_error, mean_squared_error, classification_report, plot_confusion_matrix, accuracy_score, max_error\n",
    "from scipy.stats import reciprocal, randint\n",
    "from sklearn.linear_model import LinearRegression,  Ridge, Lasso, LogisticRegression\n",
    "from sklearn.preprocessing import StandardScaler, PolynomialFeatures\n",
    "from sklearn.pipeline import Pipeline"
   ]
  },
  {
   "cell_type": "code",
   "execution_count": 2,
   "metadata": {},
   "outputs": [
    {
     "data": {
      "text/html": [
       "<div>\n",
       "<style scoped>\n",
       "    .dataframe tbody tr th:only-of-type {\n",
       "        vertical-align: middle;\n",
       "    }\n",
       "\n",
       "    .dataframe tbody tr th {\n",
       "        vertical-align: top;\n",
       "    }\n",
       "\n",
       "    .dataframe thead th {\n",
       "        text-align: right;\n",
       "    }\n",
       "</style>\n",
       "<table border=\"1\" class=\"dataframe\">\n",
       "  <thead>\n",
       "    <tr style=\"text-align: right;\">\n",
       "      <th></th>\n",
       "      <th>fixed acidity</th>\n",
       "      <th>volatile acidity</th>\n",
       "      <th>citric acid</th>\n",
       "      <th>residual sugar</th>\n",
       "      <th>chlorides</th>\n",
       "      <th>free sulfur dioxide</th>\n",
       "      <th>total sulfur dioxide</th>\n",
       "      <th>density</th>\n",
       "      <th>pH</th>\n",
       "      <th>sulphates</th>\n",
       "      <th>alcohol</th>\n",
       "      <th>quality</th>\n",
       "    </tr>\n",
       "  </thead>\n",
       "  <tbody>\n",
       "    <tr>\n",
       "      <th>0</th>\n",
       "      <td>7.4</td>\n",
       "      <td>0.700</td>\n",
       "      <td>0.00</td>\n",
       "      <td>1.9</td>\n",
       "      <td>0.076</td>\n",
       "      <td>11.0</td>\n",
       "      <td>34.0</td>\n",
       "      <td>0.99780</td>\n",
       "      <td>3.51</td>\n",
       "      <td>0.56</td>\n",
       "      <td>9.4</td>\n",
       "      <td>5</td>\n",
       "    </tr>\n",
       "    <tr>\n",
       "      <th>1</th>\n",
       "      <td>7.8</td>\n",
       "      <td>0.880</td>\n",
       "      <td>0.00</td>\n",
       "      <td>2.6</td>\n",
       "      <td>0.098</td>\n",
       "      <td>25.0</td>\n",
       "      <td>67.0</td>\n",
       "      <td>0.99680</td>\n",
       "      <td>3.20</td>\n",
       "      <td>0.68</td>\n",
       "      <td>9.8</td>\n",
       "      <td>5</td>\n",
       "    </tr>\n",
       "    <tr>\n",
       "      <th>2</th>\n",
       "      <td>7.8</td>\n",
       "      <td>0.760</td>\n",
       "      <td>0.04</td>\n",
       "      <td>2.3</td>\n",
       "      <td>0.092</td>\n",
       "      <td>15.0</td>\n",
       "      <td>54.0</td>\n",
       "      <td>0.99700</td>\n",
       "      <td>3.26</td>\n",
       "      <td>0.65</td>\n",
       "      <td>9.8</td>\n",
       "      <td>5</td>\n",
       "    </tr>\n",
       "    <tr>\n",
       "      <th>3</th>\n",
       "      <td>11.2</td>\n",
       "      <td>0.280</td>\n",
       "      <td>0.56</td>\n",
       "      <td>1.9</td>\n",
       "      <td>0.075</td>\n",
       "      <td>17.0</td>\n",
       "      <td>60.0</td>\n",
       "      <td>0.99800</td>\n",
       "      <td>3.16</td>\n",
       "      <td>0.58</td>\n",
       "      <td>9.8</td>\n",
       "      <td>6</td>\n",
       "    </tr>\n",
       "    <tr>\n",
       "      <th>4</th>\n",
       "      <td>7.4</td>\n",
       "      <td>0.700</td>\n",
       "      <td>0.00</td>\n",
       "      <td>1.9</td>\n",
       "      <td>0.076</td>\n",
       "      <td>11.0</td>\n",
       "      <td>34.0</td>\n",
       "      <td>0.99780</td>\n",
       "      <td>3.51</td>\n",
       "      <td>0.56</td>\n",
       "      <td>9.4</td>\n",
       "      <td>5</td>\n",
       "    </tr>\n",
       "    <tr>\n",
       "      <th>...</th>\n",
       "      <td>...</td>\n",
       "      <td>...</td>\n",
       "      <td>...</td>\n",
       "      <td>...</td>\n",
       "      <td>...</td>\n",
       "      <td>...</td>\n",
       "      <td>...</td>\n",
       "      <td>...</td>\n",
       "      <td>...</td>\n",
       "      <td>...</td>\n",
       "      <td>...</td>\n",
       "      <td>...</td>\n",
       "    </tr>\n",
       "    <tr>\n",
       "      <th>1594</th>\n",
       "      <td>6.2</td>\n",
       "      <td>0.600</td>\n",
       "      <td>0.08</td>\n",
       "      <td>2.0</td>\n",
       "      <td>0.090</td>\n",
       "      <td>32.0</td>\n",
       "      <td>44.0</td>\n",
       "      <td>0.99490</td>\n",
       "      <td>3.45</td>\n",
       "      <td>0.58</td>\n",
       "      <td>10.5</td>\n",
       "      <td>5</td>\n",
       "    </tr>\n",
       "    <tr>\n",
       "      <th>1595</th>\n",
       "      <td>5.9</td>\n",
       "      <td>0.550</td>\n",
       "      <td>0.10</td>\n",
       "      <td>2.2</td>\n",
       "      <td>0.062</td>\n",
       "      <td>39.0</td>\n",
       "      <td>51.0</td>\n",
       "      <td>0.99512</td>\n",
       "      <td>3.52</td>\n",
       "      <td>0.76</td>\n",
       "      <td>11.2</td>\n",
       "      <td>6</td>\n",
       "    </tr>\n",
       "    <tr>\n",
       "      <th>1596</th>\n",
       "      <td>6.3</td>\n",
       "      <td>0.510</td>\n",
       "      <td>0.13</td>\n",
       "      <td>2.3</td>\n",
       "      <td>0.076</td>\n",
       "      <td>29.0</td>\n",
       "      <td>40.0</td>\n",
       "      <td>0.99574</td>\n",
       "      <td>3.42</td>\n",
       "      <td>0.75</td>\n",
       "      <td>11.0</td>\n",
       "      <td>6</td>\n",
       "    </tr>\n",
       "    <tr>\n",
       "      <th>1597</th>\n",
       "      <td>5.9</td>\n",
       "      <td>0.645</td>\n",
       "      <td>0.12</td>\n",
       "      <td>2.0</td>\n",
       "      <td>0.075</td>\n",
       "      <td>32.0</td>\n",
       "      <td>44.0</td>\n",
       "      <td>0.99547</td>\n",
       "      <td>3.57</td>\n",
       "      <td>0.71</td>\n",
       "      <td>10.2</td>\n",
       "      <td>5</td>\n",
       "    </tr>\n",
       "    <tr>\n",
       "      <th>1598</th>\n",
       "      <td>6.0</td>\n",
       "      <td>0.310</td>\n",
       "      <td>0.47</td>\n",
       "      <td>3.6</td>\n",
       "      <td>0.067</td>\n",
       "      <td>18.0</td>\n",
       "      <td>42.0</td>\n",
       "      <td>0.99549</td>\n",
       "      <td>3.39</td>\n",
       "      <td>0.66</td>\n",
       "      <td>11.0</td>\n",
       "      <td>6</td>\n",
       "    </tr>\n",
       "  </tbody>\n",
       "</table>\n",
       "<p>1599 rows × 12 columns</p>\n",
       "</div>"
      ],
      "text/plain": [
       "      fixed acidity  volatile acidity  citric acid  residual sugar  chlorides  \\\n",
       "0               7.4             0.700         0.00             1.9      0.076   \n",
       "1               7.8             0.880         0.00             2.6      0.098   \n",
       "2               7.8             0.760         0.04             2.3      0.092   \n",
       "3              11.2             0.280         0.56             1.9      0.075   \n",
       "4               7.4             0.700         0.00             1.9      0.076   \n",
       "...             ...               ...          ...             ...        ...   \n",
       "1594            6.2             0.600         0.08             2.0      0.090   \n",
       "1595            5.9             0.550         0.10             2.2      0.062   \n",
       "1596            6.3             0.510         0.13             2.3      0.076   \n",
       "1597            5.9             0.645         0.12             2.0      0.075   \n",
       "1598            6.0             0.310         0.47             3.6      0.067   \n",
       "\n",
       "      free sulfur dioxide  total sulfur dioxide  density    pH  sulphates  \\\n",
       "0                    11.0                  34.0  0.99780  3.51       0.56   \n",
       "1                    25.0                  67.0  0.99680  3.20       0.68   \n",
       "2                    15.0                  54.0  0.99700  3.26       0.65   \n",
       "3                    17.0                  60.0  0.99800  3.16       0.58   \n",
       "4                    11.0                  34.0  0.99780  3.51       0.56   \n",
       "...                   ...                   ...      ...   ...        ...   \n",
       "1594                 32.0                  44.0  0.99490  3.45       0.58   \n",
       "1595                 39.0                  51.0  0.99512  3.52       0.76   \n",
       "1596                 29.0                  40.0  0.99574  3.42       0.75   \n",
       "1597                 32.0                  44.0  0.99547  3.57       0.71   \n",
       "1598                 18.0                  42.0  0.99549  3.39       0.66   \n",
       "\n",
       "      alcohol  quality  \n",
       "0         9.4        5  \n",
       "1         9.8        5  \n",
       "2         9.8        5  \n",
       "3         9.8        6  \n",
       "4         9.4        5  \n",
       "...       ...      ...  \n",
       "1594     10.5        5  \n",
       "1595     11.2        6  \n",
       "1596     11.0        6  \n",
       "1597     10.2        5  \n",
       "1598     11.0        6  \n",
       "\n",
       "[1599 rows x 12 columns]"
      ]
     },
     "execution_count": 2,
     "metadata": {},
     "output_type": "execute_result"
    }
   ],
   "source": [
    "df = pd.read_csv('winequality-red.csv', sep=';')\n",
    "df"
   ]
  },
  {
   "cell_type": "code",
   "execution_count": 3,
   "metadata": {},
   "outputs": [],
   "source": [
    "X = df.drop(columns='quality')\n",
    "y = df.quality"
   ]
  },
  {
   "cell_type": "code",
   "execution_count": 4,
   "metadata": {},
   "outputs": [],
   "source": [
    "X_train, X_test, y_train, y_test = train_test_split(X, y, test_size=0.2, random_state=42)\n",
    "X_train, X_val, y_train, y_val = train_test_split(X_train, y_train, test_size=0.25, random_state=42)"
   ]
  },
  {
   "cell_type": "markdown",
   "metadata": {},
   "source": [
    "# Modelos Simples"
   ]
  },
  {
   "cell_type": "markdown",
   "metadata": {},
   "source": [
    "## Regresión Lineal"
   ]
  },
  {
   "cell_type": "code",
   "execution_count": 6,
   "metadata": {},
   "outputs": [
    {
     "name": "stdout",
     "output_type": "stream",
     "text": [
      "R2 train 0.3609234335849555\n",
      "R2 val 0.28359035774129715\n",
      "MAE train 0.5010333783031675\n",
      "MAE val 0.500497880170689\n",
      "MSE train 0.41774665284129203\n",
      "MSE val 0.45468924863315785\n",
      "Max error train 2.721971891101168\n",
      "Max error val 2.6711328589836043\n"
     ]
    }
   ],
   "source": [
    "lr = Pipeline([\n",
    "                ('scale', StandardScaler()),\n",
    "                ('linear', LinearRegression())\n",
    "              ])\n",
    "lr.fit(X_train, y_train)\n",
    "\n",
    "r2_train = r2_score(y_train, lr.predict(X_train))\n",
    "r2_val = r2_score(y_val, lr.predict(X_val))\n",
    "\n",
    "mae_train = mean_absolute_error(y_train, lr.predict(X_train))\n",
    "mae_val = mean_absolute_error(y_val, lr.predict(X_val))\n",
    "\n",
    "mse_train = mean_squared_error(y_train, lr.predict(X_train))\n",
    "mse_val = mean_squared_error(y_val, lr.predict(X_val))\n",
    "\n",
    "max_error_train = max_error(y_train, lr.predict(X_train))\n",
    "max_error_val = max_error(y_val, lr.predict(X_val))\n",
    "\n",
    "print('R2 train {}'.format(r2_train))\n",
    "print('R2 val {}'.format(r2_val))\n",
    "\n",
    "print('MAE train {}'.format(mae_train))\n",
    "print('MAE val {}'.format(mae_val))\n",
    "\n",
    "print('MSE train {}'.format(mse_train))\n",
    "print('MSE val {}'.format(mse_val))\n",
    "\n",
    "print('Max error train {}'.format(max_error_train))\n",
    "print('Max error val {}'.format(max_error_val))"
   ]
  },
  {
   "cell_type": "markdown",
   "metadata": {},
   "source": [
    "## Regresión Polinómica"
   ]
  },
  {
   "cell_type": "code",
   "execution_count": 7,
   "metadata": {},
   "outputs": [
    {
     "name": "stdout",
     "output_type": "stream",
     "text": [
      "R2 train 0.44449627110204504\n",
      "R2 val 0.30213480806067083\n",
      "MAE train 0.46652546111995125\n",
      "MAE val 0.4989964673435877\n",
      "MSE train 0.36311740342747495\n",
      "MSE val 0.442919498919228\n",
      "Max error train 2.2656921213732266\n",
      "Max error val 1.853955968743798\n",
      "Wall time: 6min 16s\n"
     ]
    }
   ],
   "source": [
    "%%time\n",
    "poly_pipe = Pipeline([\n",
    "                        ('poly', PolynomialFeatures()),\n",
    "                        ('scale', StandardScaler()),\n",
    "                        ('lr', LinearRegression())\n",
    "                     ])\n",
    "grid = {'poly__degree':range(2,10)}\n",
    "\n",
    "poly_reg = GridSearchCV(poly_pipe, param_grid=grid)\n",
    "poly_reg.fit(X_train, y_train)\n",
    "\n",
    "r2_train = r2_score(y_train, poly_reg.predict(X_train))\n",
    "r2_val = r2_score(y_val, poly_reg.predict(X_val))\n",
    "\n",
    "mae_train = mean_absolute_error(y_train, poly_reg.predict(X_train))\n",
    "mae_val = mean_absolute_error(y_val, poly_reg.predict(X_val))\n",
    "\n",
    "mse_train = mean_squared_error(y_train, poly_reg.predict(X_train))\n",
    "mse_val = mean_squared_error(y_val, poly_reg.predict(X_val))\n",
    "\n",
    "max_error_train = max_error(y_train, poly_reg.predict(X_train))\n",
    "max_error_val = max_error(y_val, poly_reg.predict(X_val))\n",
    "\n",
    "print('R2 train {}'.format(r2_train))\n",
    "print('R2 val {}'.format(r2_val))\n",
    "\n",
    "print('MAE train {}'.format(mae_train))\n",
    "print('MAE val {}'.format(mae_val))\n",
    "\n",
    "print('MSE train {}'.format(mse_train))\n",
    "print('MSE val {}'.format(mse_val))\n",
    "\n",
    "print('Max error train {}'.format(max_error_train))\n",
    "print('Max error val {}'.format(max_error_val))"
   ]
  },
  {
   "cell_type": "code",
   "execution_count": 9,
   "metadata": {},
   "outputs": [
    {
     "data": {
      "text/plain": [
       "{'poly__degree': 2}"
      ]
     },
     "execution_count": 9,
     "metadata": {},
     "output_type": "execute_result"
    }
   ],
   "source": [
    "poly_reg.best_params_"
   ]
  },
  {
   "cell_type": "markdown",
   "metadata": {},
   "source": [
    "## Árbol de Decisión"
   ]
  },
  {
   "cell_type": "code",
   "execution_count": 12,
   "metadata": {},
   "outputs": [
    {
     "name": "stdout",
     "output_type": "stream",
     "text": [
      "R2 train 0.434407585899638\n",
      "R2 val 0.2419654340451889\n",
      "MAE train 0.46172046754692075\n",
      "MAE val 0.5232387175845787\n",
      "MSE train 0.36971209754764384\n",
      "MSE val 0.48110766089813606\n",
      "Max error train 2.325581395348837\n",
      "Max error val 2.475409836065574\n",
      "Wall time: 2.77 s\n"
     ]
    }
   ],
   "source": [
    "%%time\n",
    "tree = DecisionTreeRegressor()\n",
    "dists = {'max_depth':range(2, 100),'min_samples_leaf': range(10, 1000)}\n",
    "\n",
    "tree_reg = RandomizedSearchCV(tree, param_distributions=dists, n_iter=100)\n",
    "tree_reg.fit(X_train, y_train)\n",
    "\n",
    "r2_train = r2_score(y_train, tree_reg.predict(X_train))\n",
    "r2_val = r2_score(y_val, tree_reg.predict(X_val))\n",
    "\n",
    "mae_train = mean_absolute_error(y_train, tree_reg.predict(X_train))\n",
    "mae_val = mean_absolute_error(y_val, tree_reg.predict(X_val))\n",
    "\n",
    "mse_train = mean_squared_error(y_train, tree_reg.predict(X_train))\n",
    "mse_val = mean_squared_error(y_val, tree_reg.predict(X_val))\n",
    "\n",
    "max_error_train = max_error(y_train, tree_reg.predict(X_train))\n",
    "max_error_val = max_error(y_val, tree_reg.predict(X_val))\n",
    "\n",
    "print('R2 train {}'.format(r2_train))\n",
    "print('R2 val {}'.format(r2_val))\n",
    "\n",
    "print('MAE train {}'.format(mae_train))\n",
    "print('MAE val {}'.format(mae_val))\n",
    "\n",
    "print('MSE train {}'.format(mse_train))\n",
    "print('MSE val {}'.format(mse_val))\n",
    "\n",
    "print('Max error train {}'.format(max_error_train))\n",
    "print('Max error val {}'.format(max_error_val))"
   ]
  },
  {
   "cell_type": "markdown",
   "metadata": {},
   "source": [
    "## Máquina de Soporte Vectorial (SVM)"
   ]
  },
  {
   "cell_type": "code",
   "execution_count": 18,
   "metadata": {},
   "outputs": [
    {
     "name": "stdout",
     "output_type": "stream",
     "text": [
      "R2 train 0.4771848361116148\n",
      "R2 val 0.32831151039559714\n",
      "MAE train 0.4184256112018784\n",
      "MAE val 0.4680616597513442\n",
      "MSE train 0.34174979375977166\n",
      "MSE val 0.42630572878788814\n",
      "Max error train 2.6644215678234575\n",
      "Max error val 2.571421443520342\n",
      "Wall time: 5min 32s\n"
     ]
    }
   ],
   "source": [
    "%%time\n",
    "svm_pipe = Pipeline([\n",
    "                        ('scale', StandardScaler()),\n",
    "                        ('svr', SVR(kernel='rbf'))\n",
    "                     ])\n",
    "dists = {'svr__gamma':reciprocal(0.01, 100),'svr__C': reciprocal(1e-4, 1e4)}\n",
    "\n",
    "svm_reg = RandomizedSearchCV(svm_pipe, param_distributions = dists, n_iter=100)\n",
    "svm_reg.fit(X_train, y_train)\n",
    "\n",
    "r2_train = r2_score(y_train, svm_reg.predict(X_train))\n",
    "r2_val = r2_score(y_val, svm_reg.predict(X_val))\n",
    "\n",
    "mae_train = mean_absolute_error(y_train, svm_reg.predict(X_train))\n",
    "mae_val = mean_absolute_error(y_val, svm_reg.predict(X_val))\n",
    "\n",
    "mse_train = mean_squared_error(y_train, svm_reg.predict(X_train))\n",
    "mse_val = mean_squared_error(y_val, svm_reg.predict(X_val))\n",
    "\n",
    "max_error_train = max_error(y_train, svm_reg.predict(X_train))\n",
    "max_error_val = max_error(y_val, svm_reg.predict(X_val))\n",
    "\n",
    "print('R2 train {}'.format(r2_train))\n",
    "print('R2 val {}'.format(r2_val))\n",
    "\n",
    "print('MAE train {}'.format(mae_train))\n",
    "print('MAE val {}'.format(mae_val))\n",
    "\n",
    "print('MSE train {}'.format(mse_train))\n",
    "print('MSE val {}'.format(mse_val))\n",
    "\n",
    "print('Max error train {}'.format(max_error_train))\n",
    "print('Max error val {}'.format(max_error_val))"
   ]
  },
  {
   "cell_type": "code",
   "execution_count": 25,
   "metadata": {},
   "outputs": [
    {
     "data": {
      "text/plain": [
       "{'svr__C': 0.7736260260189296, 'svr__gamma': 0.059420843195289834}"
      ]
     },
     "execution_count": 25,
     "metadata": {},
     "output_type": "execute_result"
    }
   ],
   "source": [
    "svm_reg.best_params_"
   ]
  },
  {
   "cell_type": "markdown",
   "metadata": {},
   "source": [
    "# Modelos de Ensamble"
   ]
  },
  {
   "cell_type": "markdown",
   "metadata": {},
   "source": [
    "## Bagging de regresiones lineales"
   ]
  },
  {
   "cell_type": "code",
   "execution_count": 22,
   "metadata": {},
   "outputs": [
    {
     "name": "stdout",
     "output_type": "stream",
     "text": [
      "R2 train 0.3606915742284076\n",
      "R2 val 0.2858326847696282\n",
      "MAE train 0.5011581423741397\n",
      "MAE val 0.5000372601532085\n",
      "MSE train 0.41789821288154066\n",
      "MSE val 0.45326609359508885\n",
      "Max error train 2.7234534569444167\n",
      "Max error val 2.6925711827852385\n",
      "Wall time: 1min 9s\n"
     ]
    }
   ],
   "source": [
    "%%time\n",
    "bagg_linear_pipe = Pipeline([\n",
    "                                ('scale', StandardScaler()),\n",
    "                                ('bagg', BaggingRegressor(base_estimator=LinearRegression(), max_samples=2/3))\n",
    "                            ])\n",
    "grid = {'bagg__n_estimators':range(20, 100)}\n",
    "\n",
    "bagg_linear = GridSearchCV(bagg_linear_pipe, param_grid=grid)\n",
    "bagg_linear.fit(X_train, y_train)\n",
    "\n",
    "r2_train = r2_score(y_train, bagg_linear.predict(X_train))\n",
    "r2_val = r2_score(y_val, bagg_linear.predict(X_val))\n",
    "\n",
    "mae_train = mean_absolute_error(y_train, bagg_linear.predict(X_train))\n",
    "mae_val = mean_absolute_error(y_val, bagg_linear.predict(X_val))\n",
    "\n",
    "mse_train = mean_squared_error(y_train, bagg_linear.predict(X_train))\n",
    "mse_val = mean_squared_error(y_val, bagg_linear.predict(X_val))\n",
    "\n",
    "max_error_train = max_error(y_train, bagg_linear.predict(X_train))\n",
    "max_error_val = max_error(y_val, bagg_linear.predict(X_val))\n",
    "\n",
    "print('R2 train {}'.format(r2_train))\n",
    "print('R2 val {}'.format(r2_val))\n",
    "\n",
    "print('MAE train {}'.format(mae_train))\n",
    "print('MAE val {}'.format(mae_val))\n",
    "\n",
    "print('MSE train {}'.format(mse_train))\n",
    "print('MSE val {}'.format(mse_val))\n",
    "\n",
    "print('Max error train {}'.format(max_error_train))\n",
    "print('Max error val {}'.format(max_error_val))\n"
   ]
  },
  {
   "cell_type": "markdown",
   "metadata": {},
   "source": [
    "## Bagging de regresion polinomial de grado 2"
   ]
  },
  {
   "cell_type": "code",
   "execution_count": 24,
   "metadata": {},
   "outputs": [
    {
     "name": "stdout",
     "output_type": "stream",
     "text": [
      "R2 train 0.41761651197838634\n",
      "R2 val 0.3138858311149133\n",
      "MAE train 0.47545058577212695\n",
      "MAE val 0.4991204835147734\n",
      "MSE train 0.3806879575569719\n",
      "MSE val 0.43546138623057296\n",
      "Max error train 2.641899458263471\n",
      "Max error val 1.8416436246000458\n",
      "Wall time: 2min 51s\n"
     ]
    }
   ],
   "source": [
    "%%time\n",
    "bagg_poly_pipe = Pipeline([\n",
    "                                ('scale', StandardScaler()),\n",
    "                                ('poly', PolynomialFeatures(degree=2)),\n",
    "                                ('bagg', BaggingRegressor(base_estimator=LinearRegression(), max_samples=2/3))\n",
    "                            ])\n",
    "grid = {'bagg__n_estimators':range(20, 100)}\n",
    "\n",
    "bagg_poly = GridSearchCV(bagg_poly_pipe, param_grid=grid)\n",
    "bagg_poly.fit(X_train, y_train)\n",
    "\n",
    "r2_train = r2_score(y_train, bagg_poly.predict(X_train))\n",
    "r2_val = r2_score(y_val, bagg_poly.predict(X_val))\n",
    "\n",
    "mae_train = mean_absolute_error(y_train, bagg_poly.predict(X_train))\n",
    "mae_val = mean_absolute_error(y_val, bagg_poly.predict(X_val))\n",
    "\n",
    "mse_train = mean_squared_error(y_train, bagg_poly.predict(X_train))\n",
    "mse_val = mean_squared_error(y_val, bagg_poly.predict(X_val))\n",
    "\n",
    "max_error_train = max_error(y_train, bagg_poly.predict(X_train))\n",
    "max_error_val = max_error(y_val, bagg_poly.predict(X_val))\n",
    "\n",
    "print('R2 train {}'.format(r2_train))\n",
    "print('R2 val {}'.format(r2_val))\n",
    "\n",
    "print('MAE train {}'.format(mae_train))\n",
    "print('MAE val {}'.format(mae_val))\n",
    "\n",
    "print('MSE train {}'.format(mse_train))\n",
    "print('MSE val {}'.format(mse_val))\n",
    "\n",
    "print('Max error train {}'.format(max_error_train))\n",
    "print('Max error val {}'.format(max_error_val))\n"
   ]
  },
  {
   "cell_type": "markdown",
   "metadata": {},
   "source": [
    "## Random Forest Regressor"
   ]
  },
  {
   "cell_type": "code",
   "execution_count": 19,
   "metadata": {},
   "outputs": [
    {
     "name": "stdout",
     "output_type": "stream",
     "text": [
      "R2 train 0.812975611399041\n",
      "R2 val 0.4180879637985334\n",
      "MAE train 0.2498321952487378\n",
      "MAE val 0.4421995768368535\n",
      "MSE train 0.12225266336396916\n",
      "MSE val 0.3693266127418898\n",
      "Max error train 1.7340668590668589\n",
      "Max error val 2.1903061224489786\n",
      "Wall time: 1min 32s\n"
     ]
    }
   ],
   "source": [
    "%%time\n",
    "forest = RandomForestRegressor()\n",
    "dists = {'n_estimators':range(20, 100), 'max_depth':(2, 50), 'min_samples_leaf':range(2, 50)}\n",
    "\n",
    "forest_reg = RandomizedSearchCV(forest, param_distributions=dists, n_iter=100)\n",
    "forest_reg.fit(X_train, y_train)\n",
    "\n",
    "r2_train = r2_score(y_train, forest_reg.predict(X_train))\n",
    "r2_val = r2_score(y_val, forest_reg.predict(X_val))\n",
    "\n",
    "mae_train = mean_absolute_error(y_train, forest_reg.predict(X_train))\n",
    "mae_val = mean_absolute_error(y_val, forest_reg.predict(X_val))\n",
    "\n",
    "mse_train = mean_squared_error(y_train, forest_reg.predict(X_train))\n",
    "mse_val = mean_squared_error(y_val, forest_reg.predict(X_val))\n",
    "\n",
    "max_error_train = max_error(y_train, forest_reg.predict(X_train))\n",
    "max_error_val = max_error(y_val, forest_reg.predict(X_val))\n",
    "\n",
    "print('R2 train {}'.format(r2_train))\n",
    "print('R2 val {}'.format(r2_val))\n",
    "\n",
    "print('MAE train {}'.format(mae_train))\n",
    "print('MAE val {}'.format(mae_val))\n",
    "\n",
    "print('MSE train {}'.format(mse_train))\n",
    "print('MSE val {}'.format(mse_val))\n",
    "\n",
    "print('Max error train {}'.format(max_error_train))\n",
    "print('Max error val {}'.format(max_error_val))"
   ]
  },
  {
   "cell_type": "markdown",
   "metadata": {},
   "source": [
    "## Bagging de SVM"
   ]
  },
  {
   "cell_type": "code",
   "execution_count": 26,
   "metadata": {},
   "outputs": [
    {
     "name": "stdout",
     "output_type": "stream",
     "text": [
      "R2 train 0.44468592456319855\n",
      "R2 val 0.32882700992181846\n",
      "MAE train 0.4476415506728212\n",
      "MAE val 0.47807355702484317\n",
      "MSE train 0.3629934322121931\n",
      "MSE val 0.42597855271651464\n",
      "Max error train 2.537696596092637\n",
      "Max error val 2.4317599275303152\n",
      "Wall time: 5min 58s\n"
     ]
    }
   ],
   "source": [
    "%%time\n",
    "bagg_svm_pipe = Pipeline([\n",
    "                                ('scale', StandardScaler()),\n",
    "                                ('bagg', BaggingRegressor(base_estimator=SVR(kernel='rbf', C=0.7, gamma=0.05), max_samples=2/3))\n",
    "                            ])\n",
    "grid = {'bagg__n_estimators':range(20, 100)}\n",
    "\n",
    "bagg_svm = GridSearchCV(bagg_svm_pipe, param_grid=grid)\n",
    "bagg_svm.fit(X_train, y_train)\n",
    "\n",
    "r2_train = r2_score(y_train, bagg_svm.predict(X_train))\n",
    "r2_val = r2_score(y_val, bagg_svm.predict(X_val))\n",
    "\n",
    "mae_train = mean_absolute_error(y_train, bagg_svm.predict(X_train))\n",
    "mae_val = mean_absolute_error(y_val, bagg_svm.predict(X_val))\n",
    "\n",
    "mse_train = mean_squared_error(y_train, bagg_svm.predict(X_train))\n",
    "mse_val = mean_squared_error(y_val, bagg_svm.predict(X_val))\n",
    "\n",
    "max_error_train = max_error(y_train, bagg_svm.predict(X_train))\n",
    "max_error_val = max_error(y_val, bagg_svm.predict(X_val))\n",
    "\n",
    "print('R2 train {}'.format(r2_train))\n",
    "print('R2 val {}'.format(r2_val))\n",
    "\n",
    "print('MAE train {}'.format(mae_train))\n",
    "print('MAE val {}'.format(mae_val))\n",
    "\n",
    "print('MSE train {}'.format(mse_train))\n",
    "print('MSE val {}'.format(mse_val))\n",
    "\n",
    "print('Max error train {}'.format(max_error_train))\n",
    "print('Max error val {}'.format(max_error_val))\n"
   ]
  },
  {
   "cell_type": "markdown",
   "metadata": {},
   "source": [
    "## Gradient Boosting"
   ]
  },
  {
   "cell_type": "code",
   "execution_count": 28,
   "metadata": {},
   "outputs": [
    {
     "name": "stdout",
     "output_type": "stream",
     "text": [
      "R2 train 0.6021198835018473\n",
      "R2 val 0.3476683543849415\n",
      "MAE train 0.38866206607638665\n",
      "MAE val 0.48606012017992767\n",
      "MSE train 0.2600832132393672\n",
      "MSE val 0.4140203709000808\n",
      "Max error train 2.064441684451955\n",
      "Max error val 1.9618633555423521\n",
      "Wall time: 1min 51s\n"
     ]
    }
   ],
   "source": [
    "%%time\n",
    "boost_est = GradientBoostingRegressor()\n",
    "dists = {'n_estimators':range(20, 100), 'max_depth':(2, 50), 'min_samples_leaf':range(2, 50)}\n",
    "\n",
    "boost = RandomizedSearchCV(boost_est, param_distributions=dists, n_iter=100)\n",
    "boost.fit(X_train, y_train)\n",
    "\n",
    "r2_train = r2_score(y_train, boost.predict(X_train))\n",
    "r2_val = r2_score(y_val, boost.predict(X_val))\n",
    "\n",
    "mae_train = mean_absolute_error(y_train, boost.predict(X_train))\n",
    "mae_val = mean_absolute_error(y_val, boost.predict(X_val))\n",
    "\n",
    "mse_train = mean_squared_error(y_train, boost.predict(X_train))\n",
    "mse_val = mean_squared_error(y_val, boost.predict(X_val))\n",
    "\n",
    "max_error_train = max_error(y_train, boost.predict(X_train))\n",
    "max_error_val = max_error(y_val, boost.predict(X_val))\n",
    "\n",
    "print('R2 train {}'.format(r2_train))\n",
    "print('R2 val {}'.format(r2_val))\n",
    "\n",
    "print('MAE train {}'.format(mae_train))\n",
    "print('MAE val {}'.format(mae_val))\n",
    "\n",
    "print('MSE train {}'.format(mse_train))\n",
    "print('MSE val {}'.format(mse_val))\n",
    "\n",
    "print('Max error train {}'.format(max_error_train))\n",
    "print('Max error val {}'.format(max_error_val))"
   ]
  },
  {
   "cell_type": "code",
   "execution_count": null,
   "metadata": {},
   "outputs": [],
   "source": []
  }
 ],
 "metadata": {
  "kernelspec": {
   "display_name": "Python 3",
   "language": "python",
   "name": "python3"
  },
  "language_info": {
   "codemirror_mode": {
    "name": "ipython",
    "version": 3
   },
   "file_extension": ".py",
   "mimetype": "text/x-python",
   "name": "python",
   "nbconvert_exporter": "python",
   "pygments_lexer": "ipython3",
   "version": "3.8.5"
  }
 },
 "nbformat": 4,
 "nbformat_minor": 4
}
